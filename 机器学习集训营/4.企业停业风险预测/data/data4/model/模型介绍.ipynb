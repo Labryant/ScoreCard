{
 "cells": [
  {
   "cell_type": "markdown",
   "metadata": {},
   "source": [
    "## 模型介绍\n",
    "1. [1_model_xgb.py](./1_model_xgb.py)\n",
    "\n",
    "    + 模型的原型，使用单一的随机化种子seed，进行预测。\n",
    "\n",
    "2. [3_model_prov.py](./3_model_prov.py)\n",
    "\n",
    "    + 模型的原型，使用单一的随机化种子seed，进行预测。但是对不同的省份PROV进行分开训练和预测。\n",
    "\n",
    "3. [model_origin.py](./model_origin.py)\n",
    "\n",
    "    + 模型的原型，使用三个不同的随机化种子seed，进行预测，进行结果平均。\n",
    "\n",
    "4. [model_avg_prov.py](./model_avg_prov.py)\n",
    "\n",
    "    + 模型的原型，使用3个不同的随机化种子seed，进行预测。但是对不同的省份PROV进行分开训练和预测，对三个seed的结果进行平均。\n",
    "\n",
    "5. [keras.py](./keras.py)\n",
    "    \n",
    "    +   使用keras搭建的神经网络进行预测，（结果没有xgb理想）。\n",
    "6. [avg_result.py](./avg_result.py)\n",
    "\n",
    "    + 平均结果文件。\n",
    "\n",
    "7. [result_alpha.py](./result_alpha.py)\n",
    "\n",
    "    + 加权平均结果文件。\n",
    "\n",
    "8. [model_help.py](./model_help.py)\n",
    "\n",
    "    + 模型测试代码。"
   ]
  }
 ],
 "metadata": {
  "kernelspec": {
   "display_name": "Python 3",
   "language": "python",
   "name": "python3"
  },
  "language_info": {
   "codemirror_mode": {
    "name": "ipython",
    "version": 3
   },
   "file_extension": ".py",
   "mimetype": "text/x-python",
   "name": "python",
   "nbconvert_exporter": "python",
   "pygments_lexer": "ipython3",
   "version": "3.6.1"
  },
  "toc": {
   "base_numbering": 1,
   "nav_menu": {},
   "number_sections": true,
   "sideBar": true,
   "skip_h1_title": false,
   "title_cell": "Table of Contents",
   "title_sidebar": "Contents",
   "toc_cell": false,
   "toc_position": {},
   "toc_section_display": true,
   "toc_window_display": false
  }
 },
 "nbformat": 4,
 "nbformat_minor": 2
}
