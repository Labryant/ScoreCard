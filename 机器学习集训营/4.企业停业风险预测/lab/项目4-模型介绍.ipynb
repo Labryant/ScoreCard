{
 "cells": [
  {
   "cell_type": "markdown",
   "metadata": {},
   "source": [
    "## 模型介绍\n",
    "1. [1_model_xgb.py](../data/data4/model/1_model_xgb.py)\n",
    "\n",
    "    + 模型的原型，使用单一的随机化种子seed，进行预测。\n",
    "\n",
    "2. [3_model_prov.py](../data/data4/model/3_model_prov.py)\n",
    "\n",
    "    + 模型的原型，使用单一的随机化种子seed，进行预测。但是对不同的省份PROV进行分开训练和预测。\n",
    "\n",
    "3. [model_origin.py](../data/data4/model/model_origin.py)\n",
    "\n",
    "    + 模型的原型，使用三个不同的随机化种子seed，进行预测，进行结果平均。\n",
    "\n",
    "4. [model_avg_prov.py](../data/data4/model/model_avg_prov.py)\n",
    "\n",
    "    + 模型的原型，使用3个不同的随机化种子seed，进行预测。但是对不同的省份PROV进行分开训练和预测，对三个seed的结果进行平均。\n",
    "\n",
    "5. [keras.py](../data/data4/model/keras.py)\n",
    "    \n",
    "    +   使用keras搭建的神经网络进行预测，（结果没有xgb理想）。\n",
    "6. [avg_result.py](../data/data4/model/avg_result.py)\n",
    "\n",
    "    + 平均结果文件。\n",
    "\n",
    "7. [result_alpha.py](../data/data4/model/result_alpha.py)\n",
    "\n",
    "    + 加权平均结果文件。\n",
    "\n",
    "8. [model_help.py](../data/data4/model/model_help.py)\n",
    "\n",
    "    + 模型测试代码。"
   ]
  },
  {
   "cell_type": "code",
   "execution_count": null,
   "metadata": {},
   "outputs": [],
   "source": []
  }
 ],
 "metadata": {
  "kernelspec": {
   "display_name": "Python 3",
   "language": "python",
   "name": "python3"
  },
  "language_info": {
   "codemirror_mode": {
    "name": "ipython",
    "version": 3
   },
   "file_extension": ".py",
   "mimetype": "text/x-python",
   "name": "python",
   "nbconvert_exporter": "python",
   "pygments_lexer": "ipython3",
   "version": "3.6.4"
  },
  "toc": {
   "base_numbering": 1,
   "nav_menu": {},
   "number_sections": true,
   "sideBar": true,
   "skip_h1_title": false,
   "title_cell": "Table of Contents",
   "title_sidebar": "Contents",
   "toc_cell": false,
   "toc_position": {},
   "toc_section_display": true,
   "toc_window_display": false
  }
 },
 "nbformat": 4,
 "nbformat_minor": 2
}
