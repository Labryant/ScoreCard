{
 "cells": [
  {
   "cell_type": "markdown",
   "metadata": {},
   "source": [
    "![](./img/chinahadoop.png)\n",
    "# 互联网广告反欺诈案例\n",
    "**[小象学院](http://www.chinahadoop.cn/course/landpage/15)《机器学习集训营》课程资料 by [@寒小阳](http://www.chinahadoop.cn/user/49339/about)**"
   ]
  },
  {
   "cell_type": "markdown",
   "metadata": {},
   "source": [
    "## 问题背景\n",
    "\n",
    "讯飞AI营销云基于深耕多年的人工智能和大数据技术，赋予营销智慧创新的大脑，以健全的产品矩阵和全方位的服务，帮助广告主用AI+大数据实现营销效能的全面提升，打造数字营销新生态。\n",
    "\n",
    "广告欺诈是数字营销面临的一个重大挑战，随着基础技术的成熟化（篡改设备信息、IPv4服务化、黑卡、接码平台等），广告欺诈呈现出规模化、集团化的趋势，其作弊手段主要包括机器人、模拟器、群控、肉鸡/后门、众包等。广告欺诈不断蚕食着营销生态，反欺诈成为数字营销领域亟待突破的关键问题。\n",
    "\n",
    "## 问题任务\n",
    "\n",
    "移动广告反欺诈需要强大的数据作为支撑，本场景提供了讯飞AI营销云海量的现网流量数据作为训练样本，大家需要基于提供的样本构建模型，预测流量作弊与否。\n",
    "\n",
    "## 数据与评估\n",
    "\n",
    "### 数据说明\n",
    "\n",
    "本次比赛为参赛选手提供了5类数据：基本数据、媒体信息、时间、IP信息和设备信息。基本数据提供了广告请求会话sid，以及“是否作弊”的标识。媒体信息、时间、IP信息和设备信息等4类数据，提供了对作弊预估可能有帮助的辅助信息。\n",
    "\n",
    "出于数据安全保证的考虑，所有数据均为脱敏处理后的数据。数据集提供了若干天的样本，最后一天数据用于预测，不提供“是否作弊”标识，其余日期的数据作为训练数据。\n",
    "\n",
    "| 数据类别 | 变量         | 数值格式 | 解释                                                         |\n",
    "| -------- | ------------ | -------- | ------------------------------------------------------------ |\n",
    "| 基本数据 | sid          | string   | 样本id/请求会话sid                                           |\n",
    "| 基本数据 | label        | int      | 是否作弊                                                     |\n",
    "| 媒体信息 | pkgname      | string   | 包名(MD5加密)                                                |\n",
    "| 媒体信息 | ver          | string   | app版本                                                      |\n",
    "| 媒体信息 | adunitshowid | string   | 对外广告位ID（MD5加密）                                      |\n",
    "| 媒体信息 | mediashowid  | string   | 对外媒体ID（MD5加密）                                        |\n",
    "| 媒体信息 | apptype      | int      | app所属分类                                                  |\n",
    "| 时间     | nginxtime    | bigint   | 请求到达服务时间，单位ms                                     |\n",
    "| IP信息   | ip           | string   | 客户端IP地址                                                 |\n",
    "| IP信息   | city         | string   | 城市                                                         |\n",
    "| IP信息   | province     | string   | 省份                                                         |\n",
    "| IP信息   | reqrealip    | string   | 请求的http协议头携带IP，有可能是下游服务器的ip               |\n",
    "| 设备信息 | adidmd5      | string   | Adroid ID的MD5值                                             |\n",
    "| 设备信息 | imeimd5      | string   | imei的MD5值                                                  |\n",
    "| 设备信息 | idfamd5      | string   | idfa的MD5值                                                  |\n",
    "| 设备信息 | openudidmd5  | string   | openudid的MD5值                                              |\n",
    "| 设备信息 | macmd5       | string   | mac的MD5值                                                   |\n",
    "| 设备信息 | dvctype      | int      | 设备类型 0 – 未知,1 – PC,2 – 手机, 3– 平板,4– 电视盒,5– 智能电视,6 – 可穿戴设备,7 – 智能家电,8 - 音箱,9 - 智能硬件 |\n",
    "| 设备信息 | model        | string   | 机型                                                         |\n",
    "| 设备信息 | make         | string   | 厂商                                                         |\n",
    "| 设备信息 | ntt          | int      | 网络类型 0-未知, 1-有线网, 2-WIFI, 3-蜂窝网络未知, 4-2G, 5-3G, 6–4G |\n",
    "| 设备信息 | carrier      | string   | 运营商 0-未知, 46000-移动, 46001-联通, 46003-电信            |\n",
    "| 设备信息 | os           | string   | 操作系统 : Android, iOS                                      |\n",
    "| 设备信息 | osv          | string   | 操作系统版本                                                 |\n",
    "| 设备信息 | orientation  | int      | 横竖屏:0竖屏，1横屏                                          |\n",
    "| 设备信息 | lan          | string   | 语言                                                         |\n",
    "| 设备信息 | h            | int      | 设备高                                                       |\n",
    "| 设备信息 | w            | int      | 设备宽                                                       |\n",
    "| 设备信息 | ppi          | int      | 屏幕密度                                                     |\n",
    "\n",
    "### 评估指标\n",
    "\n",
    "本模型依据提交的结果文件，采用宏平均F1-score进行评价。\n",
    "\n",
    "1) 统计TP（正确预测作弊记录），FP（错将正常记录预测为作弊记录），FN（作弊记录预测为非作弊记录）；\n",
    "2) 通过第一步的统计值计算模型的precision和recall，计算公式如下：\n",
    "\n",
    "$$precision = \\frac{TP}{TP+FP}$$\n",
    "\n",
    "$$recall = \\frac{TP}{TP+FN}$$\n",
    "\n",
    "3) 通过第二步计算结果计算F1-score,得到最后评测结果，计算方式如下：\n",
    "\n",
    "$$F_1 = \\frac{2*precision*recall}{precision+recall}$$"
   ]
  }
 ],
 "metadata": {
  "kernelspec": {
   "display_name": "Python 3",
   "language": "python",
   "name": "python3"
  },
  "language_info": {
   "codemirror_mode": {
    "name": "ipython",
    "version": 3
   },
   "file_extension": ".py",
   "mimetype": "text/x-python",
   "name": "python",
   "nbconvert_exporter": "python",
   "pygments_lexer": "ipython3",
   "version": "3.7.7"
  },
  "toc": {
   "base_numbering": 1,
   "nav_menu": {},
   "number_sections": true,
   "sideBar": true,
   "skip_h1_title": false,
   "title_cell": "Table of Contents",
   "title_sidebar": "Contents",
   "toc_cell": false,
   "toc_position": {},
   "toc_section_display": true,
   "toc_window_display": true
  }
 },
 "nbformat": 4,
 "nbformat_minor": 2
}
