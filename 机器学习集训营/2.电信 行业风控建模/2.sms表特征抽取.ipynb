{
 "cells": [
  {
   "cell_type": "markdown",
   "metadata": {},
   "source": [
    "![](./img/chinahadoop.png)\n",
    "# 风控实战项目 -- 电信行业风控建模\n",
    "**[小象学院](http://www.chinahadoop.cn/course/landpage/15)《机器学习集训营》实战项目案例 by [@寒小阳](http://www.chinahadoop.cn/user/49339/about)**"
   ]
  },
  {
   "cell_type": "markdown",
   "metadata": {},
   "source": [
    "## 说明\n",
    "本notebook为特征工程部分，给出了基本的思路和框架，请大家填充完相应环节的步骤，同时也鼓励大家尝试更多更好的数据处理与特征工程和建模方式。"
   ]
  },
  {
   "cell_type": "markdown",
   "metadata": {},
   "source": [
    "### 引入工具库"
   ]
  },
  {
   "cell_type": "code",
   "execution_count": 2,
   "metadata": {},
   "outputs": [],
   "source": [
    "import numpy as np\n",
    "import pandas as pd\n",
    "import scipy as sp\n",
    "import matplotlib.pyplot as plt\n",
    "\n",
    "from sklearn.model_selection import train_test_split\n",
    "from sklearn.metrics import roc_auc_score, f1_score\n",
    "import xgboost as xgb"
   ]
  },
  {
   "cell_type": "markdown",
   "metadata": {},
   "source": [
    "咱们从单表和多表交叉，分别抽取单维度特征和交叉维度特征"
   ]
  },
  {
   "cell_type": "markdown",
   "metadata": {},
   "source": [
    "### sms表特征抽取\n",
    "#### 先对所有的时间进行特征提取\n",
    "1. 用户电话的总的通话次数 opp_num\n",
    "2. 通话的人数，sms_all_unique_cnt\n",
    "3. 通话次数 / 人数的比例， sms_all_cnt_all_unique_cnt_rate\n",
    "4. 对端电话的前n位的个数，所有的不同号码的个数。 opp_head\n",
    "5. 对端号码长度的分布个数   opp_len\n",
    "6. 通话最大时长，平均时长，最小时长，极差时长等统计的信息  start_time\n",
    "7. 通话类型的分布个数或者比例 call_type\n",
    "8. 通话类型的分布个数和比例   in_out"
   ]
  },
  {
   "cell_type": "code",
   "execution_count": 3,
   "metadata": {},
   "outputs": [],
   "source": [
    "# 读取数据\n",
    "df_train_sms = pd.read_csv('./data/sms_train.txt', sep='\\t', names= ['uid','opp_num','opp_head','opp_len','start_time','in_out'], low_memory=False)\n",
    "df_train_label = pd.read_csv('./data/uid_train.txt', sep='\\t', names = ['uid', 'label'], low_memory=False)\n",
    "\n",
    "df_testA_sms = pd.read_csv('./data/sms_test_a.txt', sep='\\t', names= ['uid','opp_num','opp_head','opp_len','start_time','in_out'], low_memory=False)\n",
    "df_testB_sms = pd.read_csv('./data/sms_test_b.txt', sep='\\t', names = ['uid', 'label'], low_memory=False)"
   ]
  },
  {
   "cell_type": "code",
   "execution_count": null,
   "metadata": {},
   "outputs": [],
   "source": [
    "def get_sms_features(df_sms, mode='train', Type=None):\n",
    "    # 为了保证函数通用性，我们设定mode来标示训练集和不同的测试集处理\n",
    "    if mode == 'train':\n",
    "        # 复制lable的数据\n",
    "        df_train = df_train_label.copy()\n",
    "    else:\n",
    "        if Type=='A':\n",
    "            df_train = pd.DataFrame(data={'uid':['u'+str(id) for id in range(5000, 7000)]})\n",
    "        else:\n",
    "            df_train = pd.DataFrame(data={'uid':['u'+str(id) for id in range(7000, 10000)]})\n",
    "    \n",
    "    # 特征：年月日\n",
    "    # 提示：to_datetime的应用\n",
    "    # your code here\n",
    "    \n",
    "    \n",
    "    # 特征：user总通话次数\n",
    "    # 提示：分组统计\n",
    "    # your code here\n",
    "    \n",
    "    \n",
    "    # 特征：总的通话的对端的不重复的个数，即opp_num不同的个数\n",
    "    # 提示：分组统计\n",
    "    # your code here\n",
    "    \n",
    "    \n",
    "    # 特征：平均每个对端(人)通话的次数， 即 sms_all_per_opp_rate = 通话次数 / 人数\n",
    "    # 提示：两列除法，比例\n",
    "    # your code here\n",
    "    \n",
    "    \n",
    "    # 特征：对端电话的前n位的个数，所有的不同号码的个数以及其所有的分布个数和比例(部分特征待定)。 opp_head_cnt_{k}, opp_head_rate_{k}\n",
    "    # 提示：分组统计\n",
    "    # your code here\n",
    "    \n",
    "    \n",
    "    \n",
    "    # 联系最多和最少的次数的opp_head\n",
    "    # 提示：分组统计\n",
    "    # your code here\n",
    "    \n",
    "    \n",
    "    # 联系最多的head的个数\n",
    "    # your code here\n",
    "    \n",
    "    \n",
    "    # 平均联系的head的个数\n",
    "    # your code here\n",
    "    \n",
    "    \n",
    "    \n",
    "    # 最近一次联系的号码的长度\n",
    "    # your code here\n",
    "    \n",
    "\n",
    "    \n",
    "    # 联系最大时长，平均时长，最小时长，极差时长等统计的信息\n",
    "    # your code here\n",
    "    \n",
    "    \n",
    "    # 联系的密度，平均多长时间联系1次\n",
    "    # your code here\n",
    "    \n",
    "    \n",
    "    # day的分布，和比例\n",
    "    # 也就是一个月中每一天(day)的数量分布占比\n",
    "    # your code here\n",
    "    \n",
    "    \n",
    "    \n",
    "    # hour分布和比例\n",
    "    # 也就是一个天中小时(hour)的数量分布占比\n",
    "    # your code here\n",
    "    \n",
    "    \n",
    "    \n",
    "    # minute 分布\n",
    "    # your code here\n",
    "    \n",
    "\n",
    "    \n",
    "    # 平均联系时间间隔\n",
    "    # your code here\n",
    "    \n",
    "    \n",
    "    # 白天和晚上(或者一天中不同时间段)的联系频度和间隔\n",
    "    # your code here\n",
    "    \n",
    "    \n",
    "    # 其他特征\n",
    "    # your code here\n",
    "    \n",
    "\n",
    "                      \n",
    "    return df_train"
   ]
  },
  {
   "cell_type": "code",
   "execution_count": null,
   "metadata": {},
   "outputs": [],
   "source": [
    "# 功能函数：时间差，计算两个时间点秒数的差别\n",
    "def diff_time(a,b):\n",
    "    a_day, a_hour, a_minute, a_second = (a / 1000000, a / 10000 % 100, a / 100 % 100, a % 100)\n",
    "    b_day, b_hour, b_minute, b_second = (b / 1000000, b / 10000 % 100, b / 100 % 100, b % 100)\n",
    "    \n",
    "    d_day = b_day - a_day\n",
    "    d_hour = b_hour - a_hour\n",
    "    d_minute = b_minute - a_minute\n",
    "    d_second = b_second - a_second\n",
    "    \n",
    "    diff = d_day * 24 * 60 * 60 + d_hour * 60 * 60 + d_minute * 60 + d_second\n",
    "    return diff\n",
    "\n",
    "def get_diff_time(x):\n",
    "    diff_t = []\n",
    "    for d in x:\n",
    "        diff_t.append(diff_time(d[0],d[1]))\n",
    "    return diff_t"
   ]
  },
  {
   "cell_type": "markdown",
   "metadata": {},
   "source": [
    "### 调用特征工程处理"
   ]
  },
  {
   "cell_type": "code",
   "execution_count": null,
   "metadata": {},
   "outputs": [],
   "source": [
    "df_train = get_sms_features(df_train_sms)\n",
    "df_testA = get_sms_features(df_testA_sms, mode='test')\n",
    "df_test = get_sms_features(df_testB_sms, mode='test')\n",
    "\n",
    "# 缺失值填充\n",
    "df_train.fillna(0,inplace=True)\n",
    "df_test.fillna(0,inplace=True)\n",
    "\n",
    "# 中间特征存储\n",
    "df_train.to_csv('./features/df_train_sms_feat.csv',index=False)\n",
    "df_test.to_csv('./features/df_testB_sms_feat.csv',index=False)\n",
    "df_testA.to_csv('./features/df_testA_sms_feat.csv',index=False)"
   ]
  },
  {
   "cell_type": "markdown",
   "metadata": {},
   "source": [
    "### 查看数据"
   ]
  },
  {
   "cell_type": "code",
   "execution_count": null,
   "metadata": {},
   "outputs": [],
   "source": [
    "df_train.info()\n",
    "df_test.info()\n",
    "df_test.head()"
   ]
  }
 ],
 "metadata": {
  "kernelspec": {
   "display_name": "Python 3",
   "language": "python",
   "name": "python3"
  },
  "language_info": {
   "codemirror_mode": {
    "name": "ipython",
    "version": 3
   },
   "file_extension": ".py",
   "mimetype": "text/x-python",
   "name": "python",
   "nbconvert_exporter": "python",
   "pygments_lexer": "ipython3",
   "version": "3.6.1"
  },
  "toc": {
   "base_numbering": 1,
   "nav_menu": {},
   "number_sections": true,
   "sideBar": true,
   "skip_h1_title": false,
   "title_cell": "Table of Contents",
   "title_sidebar": "Contents",
   "toc_cell": false,
   "toc_position": {},
   "toc_section_display": true,
   "toc_window_display": false
  }
 },
 "nbformat": 4,
 "nbformat_minor": 2
}
