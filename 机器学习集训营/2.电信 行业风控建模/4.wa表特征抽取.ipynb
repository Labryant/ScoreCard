{
 "cells": [
  {
   "cell_type": "markdown",
   "metadata": {},
   "source": [
    "![](./img/chinahadoop.png)\n",
    "# 风控实战项目 -- 电信行业风控建模\n",
    "**[小象学院](http://www.chinahadoop.cn/course/landpage/15)《机器学习集训营》实战项目案例 by [@寒小阳](http://www.chinahadoop.cn/user/49339/about)**"
   ]
  },
  {
   "cell_type": "markdown",
   "metadata": {},
   "source": [
    "## 说明\n",
    "本notebook为特征工程部分，给出了基本的思路和框架，请大家填充完相应环节的步骤，同时也鼓励大家尝试更多更好的数据处理与特征工程和建模方式。"
   ]
  },
  {
   "cell_type": "markdown",
   "metadata": {},
   "source": [
    "### 引入工具库"
   ]
  },
  {
   "cell_type": "code",
   "execution_count": 2,
   "metadata": {},
   "outputs": [],
   "source": [
    "import numpy as np\n",
    "import pandas as pd\n",
    "import scipy as sp\n",
    "import matplotlib.pyplot as plt\n",
    "\n",
    "from sklearn.model_selection import train_test_split\n",
    "from sklearn.metrics import roc_auc_score, f1_score\n",
    "import xgboost as xgb"
   ]
  },
  {
   "cell_type": "markdown",
   "metadata": {},
   "source": [
    "咱们从单表和多表交叉，分别抽取单维度特征和交叉维度特征"
   ]
  },
  {
   "cell_type": "markdown",
   "metadata": {},
   "source": [
    "### wa features\n",
    "1. 访问网站的中的个数， wa_all_cnt\n",
    "2. 不同网站的次数， wa_all_unique_cnt\n",
    "3. visit_cnt的，sum, mean, std, max, min, skew\n",
    "4. visit_dura\n",
    "5. up_flow\n",
    "6. down_flow\n",
    "7. down_flow - up_flow = down_up_flow_diff\n",
    "8. wa_type, 分布统计\n",
    "9. date的分布个数，以及对应的不同次数，up_flow, down_flow, visit_dura, visit_cnt的统计值"
   ]
  },
  {
   "cell_type": "code",
   "execution_count": 3,
   "metadata": {},
   "outputs": [],
   "source": [
    "df_train_wa = pd.read_csv('../data/train/wa_train.txt', names = ['uid', 'wa_name', 'visit_cnt', 'visit_dura', \\\n",
    "                                   'up_flow', 'down_flow', 'wa_type', 'date'], sep='\\t', low_memory=False)\n",
    "\n",
    "df_testA_wa = pd.read_csv('../data/testA/wa_test_a.txt', names = ['uid', 'wa_name', 'visit_cnt', 'visit_dura', \\\n",
    "                                   'up_flow', 'down_flow', 'wa_type', 'date'], sep='\\t',low_memory=False)\n",
    "\n",
    "df_testB_wa = pd.read_csv('../data/testB/wa_test_b.txt', names = ['uid', 'wa_name', 'visit_cnt', 'visit_dura', \\\n",
    "                                   'up_flow', 'down_flow', 'wa_type', 'date'], sep='\\t',low_memory=False)\n",
    "\n",
    "df_train_label = pd.read_csv('../data/train/uid_train.txt', names = ['uid', 'label'], sep='\\t', low_memory=False)"
   ]
  },
  {
   "cell_type": "code",
   "execution_count": null,
   "metadata": {},
   "outputs": [],
   "source": [
    "wa_name_risk = list(set(df_train_wa[df_train_wa['uid'].isin(df_train_label[df_train_label['label']==1]['uid'])]['wa_name']))"
   ]
  },
  {
   "cell_type": "code",
   "execution_count": null,
   "metadata": {},
   "outputs": [],
   "source": [
    "def get_wa_feature_plus(df_train_wa, target='train', Type=None):\n",
    "    if target == 'train':\n",
    "        # 复制lable的数据，作为所有的特征的标示\n",
    "        df_train = df_train_label.copy()\n",
    "    else:\n",
    "        if Type == 'A':\n",
    "            df_train = pd.DataFrame(data={'uid':['u'+str(id) for id in range(5000, 7000)]})\n",
    "        else:\n",
    "            df_train = pd.DataFrame(data={'uid':['u'+str(id) for id in range(7000, 10000)]})\n",
    "    \n",
    "    # wa次数特征\n",
    "    # your code here\n",
    "    \n",
    "    \n",
    "    \n",
    "    # top高频的wa_name特征\n",
    "    # your code here\n",
    "    \n",
    "    \n",
    "    \n",
    "    # top高频的wa_name分布特征\n",
    "    # your code here\n",
    "    \n",
    "    \n",
    "    \n",
    "    # 平均wa_name的个数， wa_all_per_opp_rate\n",
    "    # your code here\n",
    "    \n",
    "            \n",
    "        \n",
    "    # wa_type 分布\n",
    "    # your code here\n",
    "    \n",
    "    \n",
    "    \n",
    "    # in_out 的比例\n",
    "    # your code here\n",
    "    \n",
    "    \n",
    "    \n",
    "    # visit_cnt, visit_dura, up_flow, down_flow, down_up_flow_diff, stats_values\n",
    "    # 统计值(sum mean max min std skew)\n",
    "    for feat in ['visit_cnt', 'visit_dura', 'up_flow', 'down_flow', 'down_up_flow_diff','visit_dura_div_visit_cnt','up_flow_div_visit_cnt','down_flow_div_visit_cnt']:\n",
    "        # your code here\n",
    "\n",
    "    \n",
    "    # 上述得到的交叉特征\n",
    "    for feat in ['sum','avg','max','min','std','skew']:\n",
    "        # your code here\n",
    "    \n",
    "    \n",
    "    # 全局top的wa_name在当前样本的统计值\n",
    "    # your code here\n",
    "    \n",
    "    \n",
    "    \n",
    "    # 根据date进行分类的统计值，以及比例\n",
    "    # your code here\n",
    "    \n",
    "    \n",
    "    \n",
    "    # 其他补充特征\n",
    "    # your code here\n",
    "\n",
    "    \n",
    "    return df_train"
   ]
  },
  {
   "cell_type": "code",
   "execution_count": null,
   "metadata": {},
   "outputs": [],
   "source": [
    "# 功能函数：时间差，计算两个时间点秒数的差别\n",
    "def diff_time(a,b):\n",
    "    a_day, a_hour, a_minute, a_second = (a / 1000000, a / 10000 % 100, a / 100 % 100, a % 100)\n",
    "    b_day, b_hour, b_minute, b_second = (b / 1000000, b / 10000 % 100, b / 100 % 100, b % 100)\n",
    "    \n",
    "    d_day = b_day - a_day\n",
    "    d_hour = b_hour - a_hour\n",
    "    d_minute = b_minute - a_minute\n",
    "    d_second = b_second - a_second\n",
    "    \n",
    "    diff = d_day * 24 * 60 * 60 + d_hour * 60 * 60 + d_minute * 60 + d_second\n",
    "    return diff\n",
    "\n",
    "def get_diff_time(x):\n",
    "    diff_t = []\n",
    "    for d in x:\n",
    "        diff_t.append(diff_time(d[0],d[1]))\n",
    "    return diff_t"
   ]
  },
  {
   "cell_type": "markdown",
   "metadata": {},
   "source": [
    "### 调用特征工程处理"
   ]
  },
  {
   "cell_type": "code",
   "execution_count": null,
   "metadata": {},
   "outputs": [],
   "source": [
    "df_test = get_wa_feature_plus(df_testB_wa, mode='test', Type='B')\n",
    "df_testA = get_wa_feature_plus(df_testA_wa, mode='test', Type='A')\n",
    "df_train = get_wa_feature_plus(df_train_wa)\n",
    "\n",
    "df_train['wa_all_wa_name_little_wite_risk'] = df_train['wa_all_wa_name_little_wite'].isin(wa_name_risk)\n",
    "df_train['wa_all_wa_name_many_wite_risk'] = df_train['wa_all_wa_name_many_wite'].isin(wa_name_risk)\n",
    "df_test['wa_all_wa_name_little_wite_risk'] = df_test['wa_all_wa_name_little_wite'].isin(wa_name_risk)\n",
    "df_test['wa_all_wa_name_many_wite_risk'] = df_test['wa_all_wa_name_many_wite'].isin(wa_name_risk)\n",
    "\n",
    "df_train.fillna(0,inplace=True)\n",
    "df_test.fillna(0,inplace=True)\n",
    "\n",
    "\n",
    "df_train.to_csv('./features/df_train_wa_feat.csv',index=False)\n",
    "df_test.to_csv('./features/df_testB_wa_feat.csv',index=False)\n",
    "df_testA.to_csv('./features/df_testA_wa_feat.csv',index=False)"
   ]
  },
  {
   "cell_type": "markdown",
   "metadata": {},
   "source": [
    "### 查看数据"
   ]
  },
  {
   "cell_type": "code",
   "execution_count": null,
   "metadata": {},
   "outputs": [],
   "source": [
    "df_train.info()\n",
    "df_test.info()\n",
    "df_test.head()"
   ]
  }
 ],
 "metadata": {
  "kernelspec": {
   "display_name": "Python 3",
   "language": "python",
   "name": "python3"
  },
  "language_info": {
   "codemirror_mode": {
    "name": "ipython",
    "version": 3
   },
   "file_extension": ".py",
   "mimetype": "text/x-python",
   "name": "python",
   "nbconvert_exporter": "python",
   "pygments_lexer": "ipython3",
   "version": "3.6.1"
  },
  "toc": {
   "base_numbering": 1,
   "nav_menu": {},
   "number_sections": true,
   "sideBar": true,
   "skip_h1_title": false,
   "title_cell": "Table of Contents",
   "title_sidebar": "Contents",
   "toc_cell": false,
   "toc_position": {},
   "toc_section_display": true,
   "toc_window_display": false
  }
 },
 "nbformat": 4,
 "nbformat_minor": 2
}
