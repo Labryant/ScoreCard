{
 "cells": [
  {
   "cell_type": "markdown",
   "metadata": {},
   "source": [
    "![](./img/chinahadoop.png)\n",
    "# 风控实战项目 -- 电信行业风控建模\n",
    "**[小象学院](http://www.chinahadoop.cn/course/landpage/15)《机器学习集训营》实战项目案例 by [@寒小阳](http://www.chinahadoop.cn/user/49339/about)**"
   ]
  },
  {
   "cell_type": "markdown",
   "metadata": {},
   "source": [
    "## 说明\n",
    "本notebook为特征工程部分，给出了基本的思路和框架，请大家填充完相应环节的步骤，同时也鼓励大家尝试更多更好的数据处理与特征工程和建模方式。"
   ]
  },
  {
   "cell_type": "markdown",
   "metadata": {},
   "source": [
    "### 引入工具库"
   ]
  },
  {
   "cell_type": "code",
   "execution_count": 2,
   "metadata": {},
   "outputs": [],
   "source": [
    "import numpy as np\n",
    "import pandas as pd\n",
    "import scipy as sp\n",
    "import matplotlib.pyplot as plt\n",
    "\n",
    "from sklearn.model_selection import train_test_split\n",
    "from sklearn.metrics import roc_auc_score, f1_score\n",
    "import xgboost as xgb"
   ]
  },
  {
   "cell_type": "markdown",
   "metadata": {},
   "source": [
    "咱们从单表和多表交叉，分别抽取单维度特征和交叉维度特征"
   ]
  },
  {
   "cell_type": "markdown",
   "metadata": {},
   "source": [
    "### voice_sms_feature\n",
    "1. 所有的特征都是基于voice和sms的组合，\n",
    "2. 同一个人的voice和sms的总次数，以及所有次数的比例，和差值\n",
    "3. 两者合起来的时间段分布，以及和时间的分布，"
   ]
  },
  {
   "cell_type": "code",
   "execution_count": 3,
   "metadata": {},
   "outputs": [],
   "source": [
    "df_train_voice = pd.read_csv('../data/train/voice_train.txt', names=['uid', 'opp_num', 'opp_head', 'opp_len', \\\n",
    "                                    'start_time', 'end_time', 'call_type', 'in_out'], sep='\\t', low_memory=False)\n",
    "\n",
    "df_testA_voice = pd.read_csv('../data/testA/voice_test_a.txt', names=['uid', 'opp_num', 'opp_head', 'opp_len', \\\n",
    "                                    'start_time', 'end_time', 'call_type', 'in_out'], sep='\\t', low_memory=False)\n",
    "\n",
    "df_testB_voice = pd.read_csv('../data/testB/voice_test_b.txt', names=['uid', 'opp_num', 'opp_head', 'opp_len', \\\n",
    "                                    'start_time', 'end_time', 'call_type', 'in_out'], sep='\\t', low_memory=False)\n",
    "\n",
    "df_train_sms = pd.read_csv('./data/sms_train.txt', sep='\\t', names= ['uid','opp_num','opp_head','opp_len','start_time','in_out'], low_memory=False)\n",
    "\n",
    "df_testA_sms = pd.read_csv('./data/sms_test_a.txt', sep='\\t', names= ['uid','opp_num','opp_head','opp_len','start_time','in_out'], low_memory=False)\n",
    "df_testB_sms = pd.read_csv('./data/sms_test_b.txt', sep='\\t', names = ['uid', 'label'], low_memory=False)\n",
    "\n",
    "df_train_label = pd.read_csv('./data/uid_train.txt', sep='\\t', names = ['uid', 'label'], low_memory=False)"
   ]
  },
  {
   "cell_type": "code",
   "execution_count": null,
   "metadata": {},
   "outputs": [],
   "source": [
    "def get_voice_sms_features(df_train_voice_sms, target='train'):\n",
    "    if target == 'train':\n",
    "        df_train = df_train_label.copy()\n",
    "    else:\n",
    "        df_train = pd.DataFrame(data={'uid':['u'+str(id) for id in range(5000, 7000)]})\n",
    "        df_train = pd.DataFrame(data={'uid':['u'+str(id) for id in range(7000, 10000)]})\n",
    "    \n",
    "    # 对voice和sms的组合特征\n",
    "    # 大家可以结合之前的案例和你的理解做一些添加\n",
    "    # your code here\n",
    "    \n",
    "    \n",
    "    return df_train"
   ]
  },
  {
   "cell_type": "markdown",
   "metadata": {},
   "source": [
    "### 调用特征工程处理"
   ]
  },
  {
   "cell_type": "code",
   "execution_count": null,
   "metadata": {},
   "outputs": [],
   "source": [
    "df_test = get_voice_sms_features(df_testB_voice_sms, target='test')\n",
    "df_train = get_voice_sms_features(df_train_voice_sms)\n",
    "\n",
    "df_train.fillna(0,inplace=True)\n",
    "df_test.fillna(0,inplace=True)\n",
    "\n",
    "df_train['voice_sms_all_opp_head_little_head'] = df_train['voice_sms_all_opp_head_little_head'].astype(int)\n",
    "df_train['voice_sms_all_opp_head_many_head'] = df_train['voice_sms_all_opp_head_many_head'].astype(int)\n",
    "\n",
    "\n",
    "df_test['voice_sms_all_opp_head_little_head'] = df_test['voice_sms_all_opp_head_little_head'].astype(int)\n",
    "df_test['voice_sms_all_opp_head_many_head'] = df_test['voice_sms_all_opp_head_many_head'].astype(int)\n",
    "\n",
    "\n",
    "df_train.to_csv('./features/df_train_voice_sms_feat.csv',index=False)\n",
    "df_test.to_csv('./features/df_testB_voice_sms_feat.csv',index=False)"
   ]
  },
  {
   "cell_type": "markdown",
   "metadata": {},
   "source": [
    "### 查看数据"
   ]
  },
  {
   "cell_type": "code",
   "execution_count": null,
   "metadata": {},
   "outputs": [],
   "source": [
    "df_train.info()\n",
    "df_test.info()\n",
    "df_test.head()"
   ]
  }
 ],
 "metadata": {
  "kernelspec": {
   "display_name": "Python 3",
   "language": "python",
   "name": "python3"
  },
  "language_info": {
   "codemirror_mode": {
    "name": "ipython",
    "version": 3
   },
   "file_extension": ".py",
   "mimetype": "text/x-python",
   "name": "python",
   "nbconvert_exporter": "python",
   "pygments_lexer": "ipython3",
   "version": "3.6.1"
  },
  "toc": {
   "base_numbering": 1,
   "nav_menu": {},
   "number_sections": true,
   "sideBar": true,
   "skip_h1_title": false,
   "title_cell": "Table of Contents",
   "title_sidebar": "Contents",
   "toc_cell": false,
   "toc_position": {},
   "toc_section_display": true,
   "toc_window_display": false
  }
 },
 "nbformat": 4,
 "nbformat_minor": 2
}
