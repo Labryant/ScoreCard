{
 "cells": [
  {
   "cell_type": "markdown",
   "metadata": {},
   "source": [
    "![](./img/chinahadoop.png)\n",
    "# 风控实战项目 -- 电信行业风控建模\n",
    "**[小象学院](http://www.chinahadoop.cn/course/landpage/15)《机器学习集训营》实战项目案例 by [@寒小阳](http://www.chinahadoop.cn/user/49339/about)**"
   ]
  },
  {
   "cell_type": "markdown",
   "metadata": {},
   "source": [
    "## 项目背景\n",
    "\n",
    "风控的场景无处不在，从大家在过往案例中见到的金融风控，到互联网领域的风控，到传统行业的风控。其中，在电信行业，风控也是很必要的一环，电信运营商积累了大量的用户行为数据，可以支撑判断风险用户。\n",
    "![](./img/tele_risk.png)\n",
    "\n",
    "本项目为电信场景下的风控应用，以电信场景下的语音通话、短信收发、网站及App访问记录等移动网络使用行为为数据基础，希望大家通过数据挖掘技术和机器学习算法，构建识别风险用户的预测模型，判别用户属于风险用户的可能性。\n",
    "\n",
    "## 评估准则\n",
    "这是典型的类别非均衡2分类场景，我们可以使用到的评估指标包括f1-score和auc等。\n",
    "\n",
    "这里的预估结果，我们按如下公式计算得分：\n",
    "```\n",
    "score=0.6×auc+0.4×F1\n",
    "```\n",
    "其中：\n",
    "- auc值为在测试集上，根据预测结果按照标准auc定义计算的分值；\n",
    "- F1值为针对测试集中实际标签为1（风险用户）的用户，根据预测结果，按照标准F-measure定义计算的分值。\n",
    "\n",
    "## 数据说明\n",
    "\n",
    "提供45个连续自然日期间，9999个用户每天的通话、短信、访问网站/App记录的脱敏数据，基于这些用户的移动网络使用行为，判别用户属于风险用户的可能性。\n",
    "\n",
    "用户id按照u0001～u9999编号。其中：\n",
    "- u0001～u4999用户作为训练集，对每个用户给出是否为风险用户的标签（0-非风险用户，1-风险用户）；\n",
    "- u5000～u6999用户作为测试集A，不带用户风险标签，在初赛阶段下发；\n",
    "- u7000～u9999用户作为测试集B，不带用户风险标签，在复赛阶段下发。\n",
    "\n",
    "数据表中部分列存在空值或NULL，少量uid可能在部分记录表中未出现（代表该用户在此期间没有相应的通话、短信或上网行为），均属正常情况，需要大家根据情况自行处理。\n",
    "\n",
    "详细数据说明如下：\n",
    "\n",
    "### 用户风险标签（仅训练数据集提供）\n",
    "![](./img/1.png)\n",
    "### 用户通话记录数据\n",
    "![](./img/2.png)\n",
    "### 用户短信记录数据\n",
    "![](./img/3.png)\n",
    "### 用户网站/App访问记录数据\n",
    "![](./img/4.png)\n",
    "\n",
    "## 任务要求\n",
    "- 根据训练集中的用户风险标签及通话、短信、网站/App访问记录数据，开发风险用户判别模型，对测试集用户进行预测，产出预测结果。\n",
    "- 基于得到的模型，部署能够实时预测的风控服务"
   ]
  }
 ],
 "metadata": {
  "kernelspec": {
   "display_name": "Python 3",
   "language": "python",
   "name": "python3"
  },
  "language_info": {
   "codemirror_mode": {
    "name": "ipython",
    "version": 3
   },
   "file_extension": ".py",
   "mimetype": "text/x-python",
   "name": "python",
   "nbconvert_exporter": "python",
   "pygments_lexer": "ipython3",
   "version": "3.6.1"
  },
  "toc": {
   "base_numbering": 1,
   "nav_menu": {},
   "number_sections": true,
   "sideBar": true,
   "skip_h1_title": false,
   "title_cell": "Table of Contents",
   "title_sidebar": "Contents",
   "toc_cell": false,
   "toc_position": {},
   "toc_section_display": true,
   "toc_window_display": true
  }
 },
 "nbformat": 4,
 "nbformat_minor": 2
}
