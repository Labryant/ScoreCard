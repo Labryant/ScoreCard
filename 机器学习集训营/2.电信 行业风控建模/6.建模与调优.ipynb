{
 "cells": [
  {
   "cell_type": "markdown",
   "metadata": {},
   "source": [
    "![](./img/chinahadoop.png)\n",
    "# 风控实战项目 -- 电信行业风控建模\n",
    "**[小象学院](http://www.chinahadoop.cn/course/landpage/15)《机器学习集训营》实战项目案例 by [@寒小阳](http://www.chinahadoop.cn/user/49339/about)**"
   ]
  },
  {
   "cell_type": "markdown",
   "metadata": {},
   "source": [
    "## 各种模型交叉验证调参\n",
    "提示：\n",
    "- 不要一次给网格搜索太多候选参数，否则跑起来的速度非常慢\n",
    "- 这是一个类别不均衡问题的建模，请在交叉验证时，尤其注意其中的分层抽样处理"
   ]
  },
  {
   "cell_type": "code",
   "execution_count": null,
   "metadata": {},
   "outputs": [],
   "source": [
    "import pandas as pd\n",
    "import numpy as np\n",
    "from datetime import date\n",
    "\n",
    "import warnings\n",
    "warnings.filterwarnings('ignore')\n",
    "\n",
    "import lightgbm\n",
    "import xgboost\n",
    "from sklearn.ensemble import RandomForestClassifier\n",
    "from sklearn.ensemble import GradientBoostingClassifier\n",
    "from sklearn.metrics import f1_score, roc_auc_score, classification_report\n",
    "from sklearn.preprocessing import StandardScaler, MinMaxScaler\n",
    "from sklearn.pipeline import Pipeline\n",
    "\n",
    "# 准备训练集和测试集\n",
    "# your code here\n",
    "\n",
    "\n",
    "\n",
    "# 各种模型建模\n",
    "# 举例：这里是LightGBM\n",
    "\n",
    "lgb1 = lightgbm.LGBMClassifier(random_state=2020)\n",
    "lgb = lightgbm.LGBMClassifier(boosting_type='gbdt', \n",
    "          objective= 'binary',\n",
    "          metric= 'auc',\n",
    "          min_child_weight= 2,\n",
    "          num_leaves = 2**5,\n",
    "          lambda_l2= 10,\n",
    "          subsample= 0.7,\n",
    "          colsample_bytree= 0.5,\n",
    "          colsample_bylevel= 0.5,\n",
    "          learning_rate= 0.1,\n",
    "          scale_pos_weight= 20,\n",
    "          seed= 2020,\n",
    "          nthread= 4,\n",
    "          silent= True)\n",
    "\n",
    "# 网格搜索+交叉验证调参\n",
    "# your code here\n",
    "# ...\n",
    "lgb_y_proba = lgb_y_proba*0.55 + lgb_y_proba1*0.45\n",
    "lgb_y_pred = (lgb_y_proba >= 0.5)*1\n",
    "\n",
    "f1score = f1_score(y_train, lgb_y_pred)\n",
    "aucscore = roc_auc_score(y_train, lgb_y_proba)\n",
    "print('F1:', f1score,\n",
    "      'AUC:', aucscore,\n",
    "      'Score:', f1score*0.4 + aucscore*0.6)\n",
    "print(classification_report(y_train, lgb_y_pred))\n",
    "print(\"LGB:\", sum(lgb_y_pred))\n",
    "\n",
    "train_with_proba = train[['uid','label']]\n",
    "train_with_proba['proba'] = lgb_y_proba\n",
    "train_with_proba['pred'] = lgb_y_pred\n",
    "train_with_proba.sort_values('proba', ascending=False, inplace=True)\n",
    "\n",
    "# LGB\n",
    "# F1: 0.763783510369 AUC: 0.95628093573 Score: 0.879281965585\n",
    "# F1: 0.776717557252 AUC: 0.967378883283 Score: 0.891114352871\n",
    "# F1: 0.772875058059 AUC: 0.967378883283 Score: 0.889577353193\n",
    "\n",
    "\"\"\"\n",
    "F1: 0.766902119072 AUC: 0.955587541677 Score: 0.880113372635\n",
    "Num: 1082\n",
    "\n",
    "(150) 0.847886\n",
    "F1: 0.771614192904 AUC: 0.959340760619 Score: 0.884250133533\n",
    "             precision    recall  f1-score   support\n",
    "\n",
    "          0       0.97      0.92      0.94      4099\n",
    "          1       0.70      0.86      0.77       900\n",
    "\n",
    "avg / total       0.92      0.91      0.91      4999\n",
    "\n",
    "1101\n",
    "0    2392\n",
    "1     608\n",
    "\n",
    "(150) 0.851817\n",
    "F1: 0.77878643096 AUC: 0.967494744498 Score: 0.892011419083\n",
    "             precision    recall  f1-score   support\n",
    "\n",
    "          0       0.97      0.94      0.95      5037\n",
    "          1       0.72      0.85      0.78       963\n",
    "\n",
    "avg / total       0.93      0.92      0.93      6000\n",
    "\"\"\""
   ]
  },
  {
   "cell_type": "markdown",
   "metadata": {},
   "source": [
    "## xgboost/lightGBM的早停调参\n",
    "提示与要求：\n",
    "- 可以基于上面的交叉验证拿到的初步参数，切分验证集，对建模进行early stopping的最佳轮数学习\n",
    "- 输出特征重要度，绘制出特征重要度图(可参考给到的模板)"
   ]
  },
  {
   "cell_type": "code",
   "execution_count": null,
   "metadata": {},
   "outputs": [],
   "source": []
  },
  {
   "cell_type": "code",
   "execution_count": null,
   "metadata": {},
   "outputs": [],
   "source": []
  },
  {
   "cell_type": "markdown",
   "metadata": {},
   "source": [
    "## 模型集成与预测\n",
    "提示与要求：\n",
    "- 对各模型根据交叉验证效果，配以合适的权重进行集成(对预估概率做加权平均)"
   ]
  },
  {
   "cell_type": "code",
   "execution_count": null,
   "metadata": {},
   "outputs": [],
   "source": []
  },
  {
   "cell_type": "code",
   "execution_count": null,
   "metadata": {},
   "outputs": [],
   "source": []
  },
  {
   "cell_type": "markdown",
   "metadata": {},
   "source": [
    "## 模型的持久化\n",
    "提示与要求：\n",
    "- 把模型持久化，即存储在目录子文件夹下，待后续使用"
   ]
  },
  {
   "cell_type": "code",
   "execution_count": null,
   "metadata": {},
   "outputs": [],
   "source": []
  },
  {
   "cell_type": "code",
   "execution_count": null,
   "metadata": {},
   "outputs": [],
   "source": []
  }
 ],
 "metadata": {
  "kernelspec": {
   "display_name": "Python 3",
   "language": "python",
   "name": "python3"
  },
  "language_info": {
   "codemirror_mode": {
    "name": "ipython",
    "version": 3
   },
   "file_extension": ".py",
   "mimetype": "text/x-python",
   "name": "python",
   "nbconvert_exporter": "python",
   "pygments_lexer": "ipython3",
   "version": "3.6.1"
  },
  "toc": {
   "base_numbering": 1,
   "nav_menu": {},
   "number_sections": true,
   "sideBar": true,
   "skip_h1_title": false,
   "title_cell": "Table of Contents",
   "title_sidebar": "Contents",
   "toc_cell": false,
   "toc_position": {},
   "toc_section_display": true,
   "toc_window_display": false
  }
 },
 "nbformat": 4,
 "nbformat_minor": 2
}
