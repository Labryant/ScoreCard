{
 "cells": [
  {
   "cell_type": "markdown",
   "metadata": {},
   "source": [
    "![](./img/chinahadoop.png)\n",
    "# 风控实战项目 -- 电信行业风控建模\n",
    "**[小象学院](http://www.chinahadoop.cn/course/landpage/15)《机器学习集训营》实战项目案例 by [@寒小阳](http://www.chinahadoop.cn/user/49339/about)**"
   ]
  },
  {
   "cell_type": "markdown",
   "metadata": {},
   "source": [
    "## 说明\n",
    "本notebook为特征工程部分，给出了基本的思路和框架，请大家填充完相应环节的步骤，同时也鼓励大家尝试更多更好的数据处理与特征工程和建模方式。"
   ]
  },
  {
   "cell_type": "markdown",
   "metadata": {},
   "source": [
    "### 引入工具库"
   ]
  },
  {
   "cell_type": "code",
   "execution_count": 2,
   "metadata": {},
   "outputs": [],
   "source": [
    "import numpy as np\n",
    "import pandas as pd\n",
    "import scipy as sp\n",
    "import matplotlib.pyplot as plt\n",
    "\n",
    "from sklearn.model_selection import train_test_split\n",
    "from sklearn.metrics import roc_auc_score, f1_score\n",
    "import xgboost as xgb"
   ]
  },
  {
   "cell_type": "markdown",
   "metadata": {},
   "source": [
    "咱们从单表和多表交叉，分别抽取单维度特征和交叉维度特征"
   ]
  },
  {
   "cell_type": "markdown",
   "metadata": {},
   "source": [
    "### voice features\n",
    "#### 先对所有的时间进行特征提取\n",
    "1. 用户电话的总的通话次数 opp\n",
    "2. 通话的人数，voice_all_unique_cnt\n",
    "3. 通话次数 / 人数的比例， voice_all_cnt_all_unique_cnt_rate\n",
    "4. 对端电话的前n位的个数，所有的不同号码的个数。 opp_head\n",
    "5. 对端号码长度的分布个数   opp_len\n",
    "6. 通话最大时长，平均时长，最小时长，极差时长等统计的信息  start_time, end_time\n",
    "7. 通话类型的分布个数或者比例 call_type\n",
    "8. 通话类型的分布个数和比例   in_out"
   ]
  },
  {
   "cell_type": "code",
   "execution_count": 3,
   "metadata": {},
   "outputs": [],
   "source": [
    "df_train_voice = pd.read_csv('../data/train/voice_train.txt', names=['uid', 'opp_num', 'opp_head', 'opp_len', \\\n",
    "                                    'start_time', 'end_time', 'call_type', 'in_out'], sep='\\t', low_memory=False)\n",
    "\n",
    "df_train_label = pd.read_csv('../data/train/uid_train.txt', names = ['uid', 'label'], sep='\\t', low_memory=False)\n",
    "\n",
    "df_testA_voice = pd.read_csv('../data/testA/voice_test_a.txt', names=['uid', 'opp_num', 'opp_head', 'opp_len', \\\n",
    "                                    'start_time', 'end_time', 'call_type', 'in_out'], sep='\\t', low_memory=False)\n",
    "\n",
    "df_testB_voice = pd.read_csv('../data/testB/voice_test_b.txt', names=['uid', 'opp_num', 'opp_head', 'opp_len', \\\n",
    "                                    'start_time', 'end_time', 'call_type', 'in_out'], sep='\\t', low_memory=False)"
   ]
  },
  {
   "cell_type": "code",
   "execution_count": null,
   "metadata": {},
   "outputs": [],
   "source": [
    "def get_voice_features(df_train_voice, target='train', Type=None):\n",
    "    # 为了保证函数通用性，我们设定mode来标示训练集和不同的测试集处理\n",
    "    if target == 'train':\n",
    "        # 复制lable的数据\n",
    "        df_train = df_train_label.copy()\n",
    "    else:\n",
    "        if Type == 'A':\n",
    "            df_train = pd.DataFrame(data={'uid':['u'+str(id) for id in range(5000, 7000)]})\n",
    "        else:\n",
    "            df_train = pd.DataFrame(data={'uid':['u'+str(id) for id in range(7000, 10000)]})\n",
    "    \n",
    "    \n",
    "    # 总的通话次数\n",
    "    # your code here\n",
    "    \n",
    "    \n",
    "    \n",
    "    # 总的通话的对端的不重复的个数\n",
    "    # your code here\n",
    "    \n",
    "    \n",
    "    \n",
    "    # 通话次数 / 人数的比例，每个人通话的次数， voice_all_per_opp_rate\n",
    "    # your code here\n",
    "    \n",
    "    \n",
    "    \n",
    "    # 对端电话的前n位的个数，所有的不同号码的个数以及其所有的分布个数和比例(部分特征待定)。 opp_head_cnt_{k}, opp_head_rate_{k}\n",
    "    # your code here\n",
    "    \n",
    "    \n",
    "    \n",
    "    # 联系最多和最少的次数的opp_head\n",
    "    # your code here\n",
    "    \n",
    "    \n",
    "    \n",
    "    # 通话最多的head的个数\n",
    "    # your code here\n",
    "    \n",
    "    \n",
    "    \n",
    "    # 最近一次通话的号码的长度\n",
    "    # your code here\n",
    "    \n",
    "    \n",
    "    \n",
    "    # call_type 分布\n",
    "    # your code here\n",
    "    \n",
    "    \n",
    "\n",
    "    # call_type 的比例\n",
    "    # your code here\n",
    "    \n",
    "    \n",
    "    \n",
    "    # in_out 的比例\n",
    "    # your code here\n",
    "    \n",
    "    \n",
    "    \n",
    "    # 通话最大时长，平均时长，最小时长，极差时长等统计的信息\n",
    "    # your code here\n",
    "    \n",
    "    \n",
    "    \n",
    "    # day的分布\n",
    "    # 同上一个notebook\n",
    "    # your code here\n",
    "    \n",
    "    \n",
    "    \n",
    "    # hour分布\n",
    "    # 同上一个notebook\n",
    "    # your code here\n",
    "\n",
    "    \n",
    "    \n",
    "    # minute 分布\n",
    "    # your code here\n",
    "    \n",
    "    \n",
    "\n",
    "    # 各种统计特征：最大最小分位数\n",
    "    # your code here\n",
    "    \n",
    "    \n",
    "    \n",
    "    # 平均多久打一次电话\n",
    "    # your code here\n",
    "    \n",
    "    \n",
    "    \n",
    "    # 其他补充特征\n",
    "    # your code here\n",
    "\n",
    "\n",
    "                      \n",
    "    return df_train"
   ]
  },
  {
   "cell_type": "code",
   "execution_count": null,
   "metadata": {},
   "outputs": [],
   "source": [
    "# 功能函数：时间差，计算两个时间点秒数的差别\n",
    "def diff_time(a,b):\n",
    "    a_day, a_hour, a_minute, a_second = (a / 1000000, a / 10000 % 100, a / 100 % 100, a % 100)\n",
    "    b_day, b_hour, b_minute, b_second = (b / 1000000, b / 10000 % 100, b / 100 % 100, b % 100)\n",
    "    \n",
    "    d_day = b_day - a_day\n",
    "    d_hour = b_hour - a_hour\n",
    "    d_minute = b_minute - a_minute\n",
    "    d_second = b_second - a_second\n",
    "    \n",
    "    diff = d_day * 24 * 60 * 60 + d_hour * 60 * 60 + d_minute * 60 + d_second\n",
    "    return diff\n",
    "\n",
    "def get_diff_time(x):\n",
    "    diff_t = []\n",
    "    for d in x:\n",
    "        diff_t.append(diff_time(d[0],d[1]))\n",
    "    return diff_t"
   ]
  },
  {
   "cell_type": "markdown",
   "metadata": {},
   "source": [
    "### 调用特征工程处理"
   ]
  },
  {
   "cell_type": "code",
   "execution_count": null,
   "metadata": {},
   "outputs": [],
   "source": [
    "df_test = get_voice_features(df_testB_voice, mode='test', Type='B')\n",
    "df_testA = get_voice_features(df_testA_voice, mode='test', Type='A')\n",
    "df_train = get_voice_features(df_train_voice)\n",
    "\n",
    "df_train.fillna(0,inplace=True)\n",
    "df_test.fillna(0,inplace=True)\n",
    "\n",
    "df_train.to_csv('./features/df_train_voice_feat.csv',index=False)\n",
    "df_test.to_csv('./features/df_testB_voice_feat.csv',index=False)\n",
    "df_testA.to_csv('./features/df_testA_voice_feat.csv',index=False)"
   ]
  },
  {
   "cell_type": "markdown",
   "metadata": {},
   "source": [
    "### 查看数据"
   ]
  },
  {
   "cell_type": "code",
   "execution_count": null,
   "metadata": {},
   "outputs": [],
   "source": [
    "df_train.info()\n",
    "df_test.info()\n",
    "df_test.head()"
   ]
  }
 ],
 "metadata": {
  "kernelspec": {
   "display_name": "Python 3",
   "language": "python",
   "name": "python3"
  },
  "language_info": {
   "codemirror_mode": {
    "name": "ipython",
    "version": 3
   },
   "file_extension": ".py",
   "mimetype": "text/x-python",
   "name": "python",
   "nbconvert_exporter": "python",
   "pygments_lexer": "ipython3",
   "version": "3.6.1"
  },
  "toc": {
   "base_numbering": 1,
   "nav_menu": {},
   "number_sections": true,
   "sideBar": true,
   "skip_h1_title": false,
   "title_cell": "Table of Contents",
   "title_sidebar": "Contents",
   "toc_cell": false,
   "toc_position": {},
   "toc_section_display": true,
   "toc_window_display": false
  }
 },
 "nbformat": 4,
 "nbformat_minor": 2
}
