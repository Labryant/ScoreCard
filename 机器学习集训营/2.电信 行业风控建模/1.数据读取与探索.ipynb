{
 "cells": [
  {
   "cell_type": "markdown",
   "metadata": {},
   "source": [
    "![](./img/chinahadoop.png)\n",
    "# 风控实战项目 -- 电信行业风控建模\n",
    "**[小象学院](http://www.chinahadoop.cn/course/landpage/15)《机器学习集训营》实战项目案例 by [@寒小阳](http://www.chinahadoop.cn/user/49339/about)**"
   ]
  },
  {
   "cell_type": "markdown",
   "metadata": {},
   "source": [
    "### 引入基础工具库"
   ]
  },
  {
   "cell_type": "code",
   "execution_count": 1,
   "metadata": {},
   "outputs": [],
   "source": [
    "import numpy as np\n",
    "import pandas as pd\n",
    "import scipy as sp\n",
    "import matplotlib.pyplot as plt\n",
    "\n",
    "%matplotlib inline"
   ]
  },
  {
   "cell_type": "markdown",
   "metadata": {},
   "source": [
    "### 读入数据"
   ]
  },
  {
   "cell_type": "code",
   "execution_count": 5,
   "metadata": {},
   "outputs": [],
   "source": [
    "df_train_voice = pd.read_csv('./data/voice_train.txt', sep='\\t', \n",
    "                             names=['uid', 'opp_num', 'opp_head', 'opp_len', \\\n",
    "                                    'start_time', 'end_time', 'call_type', 'in_out'], low_memory=False)\n",
    "\n",
    "df_train_sms = pd.read_csv('./data/sms_train.txt',sep='\\t', \n",
    "                           names=['uid','opp_num','opp_head','opp_len','start_time', 'in_out'], low_memory=False)\n",
    "\n",
    "df_train_wa = pd.read_csv('./data/wa_train.txt',sep='\\t',\n",
    "                          names = ['uid', 'wa_name', 'visit_cnt', 'visit_dura', \\\n",
    "                                   'up_flow', 'down_flow', 'wa_type', 'date'], low_memory=False)\n",
    "\n",
    "df_train_label = pd.read_csv('./data/uid_train.txt', sep='\\t', \n",
    "                          names = ['uid', 'label'], low_memory=False)"
   ]
  },
  {
   "cell_type": "markdown",
   "metadata": {},
   "source": [
    "### 基本数据信息了解"
   ]
  },
  {
   "cell_type": "code",
   "execution_count": 6,
   "metadata": {},
   "outputs": [
    {
     "data": {
      "text/html": [
       "<div>\n",
       "<style scoped>\n",
       "    .dataframe tbody tr th:only-of-type {\n",
       "        vertical-align: middle;\n",
       "    }\n",
       "\n",
       "    .dataframe tbody tr th {\n",
       "        vertical-align: top;\n",
       "    }\n",
       "\n",
       "    .dataframe thead th {\n",
       "        text-align: right;\n",
       "    }\n",
       "</style>\n",
       "<table border=\"1\" class=\"dataframe\">\n",
       "  <thead>\n",
       "    <tr style=\"text-align: right;\">\n",
       "      <th></th>\n",
       "      <th>uid</th>\n",
       "      <th>opp_num</th>\n",
       "      <th>opp_head</th>\n",
       "      <th>opp_len</th>\n",
       "      <th>start_time</th>\n",
       "      <th>end_time</th>\n",
       "      <th>call_type</th>\n",
       "      <th>in_out</th>\n",
       "    </tr>\n",
       "  </thead>\n",
       "  <tbody>\n",
       "    <tr>\n",
       "      <th>0</th>\n",
       "      <td>u0113</td>\n",
       "      <td>38D54642A237A11BB18455FC1E505292</td>\n",
       "      <td>132</td>\n",
       "      <td>11</td>\n",
       "      <td>26115956</td>\n",
       "      <td>26120033</td>\n",
       "      <td>1</td>\n",
       "      <td>1</td>\n",
       "    </tr>\n",
       "    <tr>\n",
       "      <th>1</th>\n",
       "      <td>u0113</td>\n",
       "      <td>38D54642A237A11BB18455FC1E505292</td>\n",
       "      <td>132</td>\n",
       "      <td>11</td>\n",
       "      <td>26115623</td>\n",
       "      <td>26115707</td>\n",
       "      <td>1</td>\n",
       "      <td>1</td>\n",
       "    </tr>\n",
       "    <tr>\n",
       "      <th>2</th>\n",
       "      <td>u0113</td>\n",
       "      <td>38D54642A237A11BB18455FC1E505292</td>\n",
       "      <td>132</td>\n",
       "      <td>11</td>\n",
       "      <td>26174233</td>\n",
       "      <td>26174321</td>\n",
       "      <td>1</td>\n",
       "      <td>1</td>\n",
       "    </tr>\n",
       "    <tr>\n",
       "      <th>3</th>\n",
       "      <td>u0113</td>\n",
       "      <td>38D54642A237A11BB18455FC1E505292</td>\n",
       "      <td>132</td>\n",
       "      <td>11</td>\n",
       "      <td>26070423</td>\n",
       "      <td>26070512</td>\n",
       "      <td>1</td>\n",
       "      <td>0</td>\n",
       "    </tr>\n",
       "    <tr>\n",
       "      <th>4</th>\n",
       "      <td>u3340</td>\n",
       "      <td>010A66F2AD42C48C44897A3DEC96A2A1</td>\n",
       "      <td>139</td>\n",
       "      <td>11</td>\n",
       "      <td>26201745</td>\n",
       "      <td>26201825</td>\n",
       "      <td>1</td>\n",
       "      <td>1</td>\n",
       "    </tr>\n",
       "  </tbody>\n",
       "</table>\n",
       "</div>"
      ],
      "text/plain": [
       "     uid                           opp_num opp_head  opp_len  start_time  \\\n",
       "0  u0113  38D54642A237A11BB18455FC1E505292      132       11    26115956   \n",
       "1  u0113  38D54642A237A11BB18455FC1E505292      132       11    26115623   \n",
       "2  u0113  38D54642A237A11BB18455FC1E505292      132       11    26174233   \n",
       "3  u0113  38D54642A237A11BB18455FC1E505292      132       11    26070423   \n",
       "4  u3340  010A66F2AD42C48C44897A3DEC96A2A1      139       11    26201745   \n",
       "\n",
       "   end_time  call_type  in_out  \n",
       "0  26120033          1       1  \n",
       "1  26115707          1       1  \n",
       "2  26174321          1       1  \n",
       "3  26070512          1       0  \n",
       "4  26201825          1       1  "
      ]
     },
     "execution_count": 6,
     "metadata": {},
     "output_type": "execute_result"
    }
   ],
   "source": [
    "df_train_voice.head()"
   ]
  },
  {
   "cell_type": "code",
   "execution_count": 7,
   "metadata": {},
   "outputs": [
    {
     "name": "stdout",
     "output_type": "stream",
     "text": [
      "<class 'pandas.core.frame.DataFrame'>\n",
      "RangeIndex: 1150778 entries, 0 to 1150777\n",
      "Data columns (total 8 columns):\n",
      "uid           1150778 non-null object\n",
      "opp_num       1150778 non-null object\n",
      "opp_head      1150778 non-null object\n",
      "opp_len       1150778 non-null int64\n",
      "start_time    1150778 non-null int64\n",
      "end_time      1150778 non-null int64\n",
      "call_type     1150778 non-null int64\n",
      "in_out        1150778 non-null int64\n",
      "dtypes: int64(5), object(3)\n",
      "memory usage: 70.2+ MB\n"
     ]
    }
   ],
   "source": [
    "df_train_voice.info()"
   ]
  },
  {
   "cell_type": "code",
   "execution_count": 8,
   "metadata": {},
   "outputs": [
    {
     "data": {
      "text/html": [
       "<div>\n",
       "<style scoped>\n",
       "    .dataframe tbody tr th:only-of-type {\n",
       "        vertical-align: middle;\n",
       "    }\n",
       "\n",
       "    .dataframe tbody tr th {\n",
       "        vertical-align: top;\n",
       "    }\n",
       "\n",
       "    .dataframe thead th {\n",
       "        text-align: right;\n",
       "    }\n",
       "</style>\n",
       "<table border=\"1\" class=\"dataframe\">\n",
       "  <thead>\n",
       "    <tr style=\"text-align: right;\">\n",
       "      <th></th>\n",
       "      <th>uid</th>\n",
       "      <th>opp_num</th>\n",
       "      <th>opp_head</th>\n",
       "      <th>opp_len</th>\n",
       "      <th>start_time</th>\n",
       "      <th>in_out</th>\n",
       "    </tr>\n",
       "  </thead>\n",
       "  <tbody>\n",
       "    <tr>\n",
       "      <th>0</th>\n",
       "      <td>u4003</td>\n",
       "      <td>B378E065731B897E7295926B27CBA0D5</td>\n",
       "      <td>186</td>\n",
       "      <td>11</td>\n",
       "      <td>20174042</td>\n",
       "      <td>1</td>\n",
       "    </tr>\n",
       "    <tr>\n",
       "      <th>1</th>\n",
       "      <td>u4003</td>\n",
       "      <td>B378E065731B897E7295926B27CBA0D5</td>\n",
       "      <td>186</td>\n",
       "      <td>11</td>\n",
       "      <td>20174130</td>\n",
       "      <td>1</td>\n",
       "    </tr>\n",
       "    <tr>\n",
       "      <th>2</th>\n",
       "      <td>u4003</td>\n",
       "      <td>1B15607F3E6D167B44D46046D5993D87</td>\n",
       "      <td>189</td>\n",
       "      <td>11</td>\n",
       "      <td>20015746</td>\n",
       "      <td>0</td>\n",
       "    </tr>\n",
       "    <tr>\n",
       "      <th>3</th>\n",
       "      <td>u4003</td>\n",
       "      <td>1B15607F3E6D167B44D46046D5993D87</td>\n",
       "      <td>189</td>\n",
       "      <td>11</td>\n",
       "      <td>20015640</td>\n",
       "      <td>0</td>\n",
       "    </tr>\n",
       "    <tr>\n",
       "      <th>4</th>\n",
       "      <td>u4003</td>\n",
       "      <td>B378E065731B897E7295926B27CBA0D5</td>\n",
       "      <td>186</td>\n",
       "      <td>11</td>\n",
       "      <td>20045300</td>\n",
       "      <td>1</td>\n",
       "    </tr>\n",
       "  </tbody>\n",
       "</table>\n",
       "</div>"
      ],
      "text/plain": [
       "     uid                           opp_num  opp_head  opp_len  start_time  \\\n",
       "0  u4003  B378E065731B897E7295926B27CBA0D5       186       11    20174042   \n",
       "1  u4003  B378E065731B897E7295926B27CBA0D5       186       11    20174130   \n",
       "2  u4003  1B15607F3E6D167B44D46046D5993D87       189       11    20015746   \n",
       "3  u4003  1B15607F3E6D167B44D46046D5993D87       189       11    20015640   \n",
       "4  u4003  B378E065731B897E7295926B27CBA0D5       186       11    20045300   \n",
       "\n",
       "   in_out  \n",
       "0       1  \n",
       "1       1  \n",
       "2       0  \n",
       "3       0  \n",
       "4       1  "
      ]
     },
     "execution_count": 8,
     "metadata": {},
     "output_type": "execute_result"
    }
   ],
   "source": [
    "df_train_sms.head()"
   ]
  },
  {
   "cell_type": "code",
   "execution_count": 9,
   "metadata": {},
   "outputs": [
    {
     "name": "stdout",
     "output_type": "stream",
     "text": [
      "<class 'pandas.core.frame.DataFrame'>\n",
      "RangeIndex: 302976 entries, 0 to 302975\n",
      "Data columns (total 6 columns):\n",
      "uid           302976 non-null object\n",
      "opp_num       302976 non-null object\n",
      "opp_head      302976 non-null int64\n",
      "opp_len       302976 non-null int64\n",
      "start_time    302976 non-null int64\n",
      "in_out        302976 non-null int64\n",
      "dtypes: int64(4), object(2)\n",
      "memory usage: 13.9+ MB\n"
     ]
    }
   ],
   "source": [
    "df_train_sms.info()"
   ]
  },
  {
   "cell_type": "code",
   "execution_count": 10,
   "metadata": {},
   "outputs": [
    {
     "data": {
      "text/html": [
       "<div>\n",
       "<style scoped>\n",
       "    .dataframe tbody tr th:only-of-type {\n",
       "        vertical-align: middle;\n",
       "    }\n",
       "\n",
       "    .dataframe tbody tr th {\n",
       "        vertical-align: top;\n",
       "    }\n",
       "\n",
       "    .dataframe thead th {\n",
       "        text-align: right;\n",
       "    }\n",
       "</style>\n",
       "<table border=\"1\" class=\"dataframe\">\n",
       "  <thead>\n",
       "    <tr style=\"text-align: right;\">\n",
       "      <th></th>\n",
       "      <th>uid</th>\n",
       "      <th>wa_name</th>\n",
       "      <th>visit_cnt</th>\n",
       "      <th>visit_dura</th>\n",
       "      <th>up_flow</th>\n",
       "      <th>down_flow</th>\n",
       "      <th>wa_type</th>\n",
       "      <th>date</th>\n",
       "    </tr>\n",
       "  </thead>\n",
       "  <tbody>\n",
       "    <tr>\n",
       "      <th>0</th>\n",
       "      <td>u0001</td>\n",
       "      <td>155导航</td>\n",
       "      <td>5.0</td>\n",
       "      <td>207.0</td>\n",
       "      <td>313.0</td>\n",
       "      <td>457.0</td>\n",
       "      <td>0.0</td>\n",
       "      <td>14.0</td>\n",
       "    </tr>\n",
       "    <tr>\n",
       "      <th>1</th>\n",
       "      <td>u0001</td>\n",
       "      <td>155导航</td>\n",
       "      <td>7.0</td>\n",
       "      <td>396.0</td>\n",
       "      <td>547.0</td>\n",
       "      <td>659.0</td>\n",
       "      <td>0.0</td>\n",
       "      <td>4.0</td>\n",
       "    </tr>\n",
       "    <tr>\n",
       "      <th>2</th>\n",
       "      <td>u0001</td>\n",
       "      <td>155导航</td>\n",
       "      <td>10.0</td>\n",
       "      <td>3212.0</td>\n",
       "      <td>781.0</td>\n",
       "      <td>941.0</td>\n",
       "      <td>0.0</td>\n",
       "      <td>12.0</td>\n",
       "    </tr>\n",
       "    <tr>\n",
       "      <th>3</th>\n",
       "      <td>u0001</td>\n",
       "      <td>155导航</td>\n",
       "      <td>14.0</td>\n",
       "      <td>723.0</td>\n",
       "      <td>1094.0</td>\n",
       "      <td>1318.0</td>\n",
       "      <td>0.0</td>\n",
       "      <td>10.0</td>\n",
       "    </tr>\n",
       "    <tr>\n",
       "      <th>4</th>\n",
       "      <td>u0001</td>\n",
       "      <td>155导航</td>\n",
       "      <td>18.0</td>\n",
       "      <td>990.0</td>\n",
       "      <td>1406.0</td>\n",
       "      <td>1694.0</td>\n",
       "      <td>0.0</td>\n",
       "      <td>11.0</td>\n",
       "    </tr>\n",
       "  </tbody>\n",
       "</table>\n",
       "</div>"
      ],
      "text/plain": [
       "     uid wa_name  visit_cnt  visit_dura  up_flow  down_flow  wa_type  date\n",
       "0  u0001   155导航        5.0       207.0    313.0      457.0      0.0  14.0\n",
       "1  u0001   155导航        7.0       396.0    547.0      659.0      0.0   4.0\n",
       "2  u0001   155导航       10.0      3212.0    781.0      941.0      0.0  12.0\n",
       "3  u0001   155导航       14.0       723.0   1094.0     1318.0      0.0  10.0\n",
       "4  u0001   155导航       18.0       990.0   1406.0     1694.0      0.0  11.0"
      ]
     },
     "execution_count": 10,
     "metadata": {},
     "output_type": "execute_result"
    }
   ],
   "source": [
    "df_train_wa.head()"
   ]
  },
  {
   "cell_type": "code",
   "execution_count": 11,
   "metadata": {},
   "outputs": [
    {
     "name": "stdout",
     "output_type": "stream",
     "text": [
      "<class 'pandas.core.frame.DataFrame'>\n",
      "RangeIndex: 4808343 entries, 0 to 4808342\n",
      "Data columns (total 8 columns):\n",
      "uid           object\n",
      "wa_name       object\n",
      "visit_cnt     float64\n",
      "visit_dura    float64\n",
      "up_flow       float64\n",
      "down_flow     float64\n",
      "wa_type       float64\n",
      "date          float64\n",
      "dtypes: float64(6), object(2)\n",
      "memory usage: 293.5+ MB\n"
     ]
    }
   ],
   "source": [
    "df_train_wa.info()"
   ]
  },
  {
   "cell_type": "code",
   "execution_count": 12,
   "metadata": {},
   "outputs": [
    {
     "data": {
      "text/html": [
       "<div>\n",
       "<style scoped>\n",
       "    .dataframe tbody tr th:only-of-type {\n",
       "        vertical-align: middle;\n",
       "    }\n",
       "\n",
       "    .dataframe tbody tr th {\n",
       "        vertical-align: top;\n",
       "    }\n",
       "\n",
       "    .dataframe thead th {\n",
       "        text-align: right;\n",
       "    }\n",
       "</style>\n",
       "<table border=\"1\" class=\"dataframe\">\n",
       "  <thead>\n",
       "    <tr style=\"text-align: right;\">\n",
       "      <th></th>\n",
       "      <th>uid</th>\n",
       "      <th>label</th>\n",
       "    </tr>\n",
       "  </thead>\n",
       "  <tbody>\n",
       "    <tr>\n",
       "      <th>0</th>\n",
       "      <td>u0001</td>\n",
       "      <td>0</td>\n",
       "    </tr>\n",
       "    <tr>\n",
       "      <th>1</th>\n",
       "      <td>u0002</td>\n",
       "      <td>0</td>\n",
       "    </tr>\n",
       "    <tr>\n",
       "      <th>2</th>\n",
       "      <td>u0003</td>\n",
       "      <td>0</td>\n",
       "    </tr>\n",
       "    <tr>\n",
       "      <th>3</th>\n",
       "      <td>u0004</td>\n",
       "      <td>0</td>\n",
       "    </tr>\n",
       "    <tr>\n",
       "      <th>4</th>\n",
       "      <td>u0005</td>\n",
       "      <td>0</td>\n",
       "    </tr>\n",
       "  </tbody>\n",
       "</table>\n",
       "</div>"
      ],
      "text/plain": [
       "     uid  label\n",
       "0  u0001      0\n",
       "1  u0002      0\n",
       "2  u0003      0\n",
       "3  u0004      0\n",
       "4  u0005      0"
      ]
     },
     "execution_count": 12,
     "metadata": {},
     "output_type": "execute_result"
    }
   ],
   "source": [
    "df_train_label.head()"
   ]
  },
  {
   "cell_type": "code",
   "execution_count": 13,
   "metadata": {},
   "outputs": [
    {
     "name": "stdout",
     "output_type": "stream",
     "text": [
      "<class 'pandas.core.frame.DataFrame'>\n",
      "RangeIndex: 4999 entries, 0 to 4998\n",
      "Data columns (total 2 columns):\n",
      "uid      4999 non-null object\n",
      "label    4999 non-null int64\n",
      "dtypes: int64(1), object(1)\n",
      "memory usage: 78.2+ KB\n"
     ]
    }
   ],
   "source": [
    "df_train_label.info()"
   ]
  }
 ],
 "metadata": {
  "kernelspec": {
   "display_name": "Python 3",
   "language": "python",
   "name": "python3"
  },
  "language_info": {
   "codemirror_mode": {
    "name": "ipython",
    "version": 3
   },
   "file_extension": ".py",
   "mimetype": "text/x-python",
   "name": "python",
   "nbconvert_exporter": "python",
   "pygments_lexer": "ipython3",
   "version": "3.6.1"
  },
  "toc": {
   "base_numbering": 1,
   "nav_menu": {},
   "number_sections": true,
   "sideBar": true,
   "skip_h1_title": false,
   "title_cell": "Table of Contents",
   "title_sidebar": "Contents",
   "toc_cell": false,
   "toc_position": {},
   "toc_section_display": true,
   "toc_window_display": true
  }
 },
 "nbformat": 4,
 "nbformat_minor": 2
}
