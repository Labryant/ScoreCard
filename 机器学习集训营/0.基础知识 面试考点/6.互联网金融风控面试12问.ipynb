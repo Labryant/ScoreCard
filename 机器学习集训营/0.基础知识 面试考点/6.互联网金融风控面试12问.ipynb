{
 "cells": [
  {
   "cell_type": "markdown",
   "metadata": {},
   "source": [
    "![](./img/chinahadoop.png)\n",
    "# 互联网金融风控面试12问\n",
    "**[小象学院](http://www.chinahadoop.cn/course/landpage/15)《机器学习集训营》课程资料 by [@寒小阳](https://www.chinahadoop.cn/user/49339/about)**"
   ]
  },
  {
   "cell_type": "markdown",
   "metadata": {},
   "source": [
    "## 你们公司的主要业务是什么？\n",
    "- 属于什么类型的贷款产品（现金贷、消费分期等等）\n",
    "- 客户一般来自什么渠道，是特定的群体（比如滴水贷只借给滴滴平台的司机），还是面向所有人的（比如常规的p2p公司）\n",
    "贷款额度、还款周期\n",
    "\n",
    "## 你们的业务做得怎么样？\n",
    "- 通过率是多少\n",
    "- pd0、pd7、pd30 大概是多少\n",
    "    - 注意：这些都反应了你的模型做的如何，通过率越高，逾期率越低，模型越好。\n",
    "    - ps：pd0指的是到期当天，pd1指的是逾期一天。\n",
    "\n",
    "## 你都负责哪些业务？\n",
    "- 准入策略\n",
    "- 风控模型\n",
    "- 贷后监控\n",
    "除掉风控模型之外，监控也是必须的，我们要时刻关心模型的通过率和贷后表现是否有异常，警惕欺诈。这个部分在课程项目中是包含的。\n",
    "\n",
    "## 你讲一讲你模型是怎么做的？\n",
    "- 确定y如何标记（逾期几天为1，几天为0，每种产品不一样，如果不知道，我建议你说15天为分割点，没什么大问题）\n",
    "- 前期数据准备（数据来自 HIVE？MySQL？MongoDB？Spark？）\n",
    "- 项目中的风控模型\n",
    "- 包括各种算法，建模技巧，基本上都是这里引出的。\n",
    "\n",
    "## 你是标记客户好坏的？\n",
    "- 逾期天数作为标记好坏的依据\n",
    "- 因为本身样本不均衡，会偏向扩充坏人的数量（比如以pd1来标记好坏，坏人肯定比pd15会多很多）\n",
    "- 注意很多公司建模的时候，去除一部分灰色客户（比如去掉pd1~pd5的客户）\n",
    "\n",
    "## 你做模型时用到了哪些数据源？\n",
    "- 征信数据\n",
    "- 运营商数据\n",
    "- 埋点数据\n",
    "- 平台自有数据\n",
    "- 用户手填数据\n",
    "    - 数据有很多，每家都各有不同，小心点也可能问你数据来自哪家平台哦。\n",
    "    - ps：见过很多小型公司都喜欢用运营商数据，因为便宜，很多都是免费的。\n",
    "\n",
    "## 模型的效果怎么样？\n",
    "- 测试集和跨时间验证集的KS和AUC是多少\n",
    "- 上线后一个月或者几个月后，模型的KS是多少，AUC是多少\n",
    "\n",
    "## 你们模型是怎么部署上线的？\n",
    "几种方式\n",
    "- 最简单的，把评分卡每个区间加多少分减多少分，怎么做映射的逻辑，讲给开发小哥，他会帮你在线上写 if else\n",
    "- 生成一个pmml文件，给开发小哥调用\n",
    "- 公司自己做的决策引擎，或者是租的，自己写变量逻辑上线\n",
    "- 用flask或者Django自己写接口上线\n",
    "在课程中会涉及到pmml文件java打分的部分\n",
    "\n",
    "## 上线需要注意什么？\n",
    "- 线上线下变量的逻辑必须完全一致，这是最重要的\n",
    "- 很多公司会做类似于AB test，两套模型竞争（一个champion做决策，和一个challenger空跑，也有可能champion 70%，challenger 30%）\n",
    "\n",
    "## 推导一下逻辑回归 & XGBOOST\n",
    "- 手撕算法部分，这两个是高频考题，相信大家是没问题的\n",
    "\n",
    "## 讲一下评分卡的分数映射公式\n",
    "- 推导主要是换底公式，详见评分卡项目\n",
    "- 如果现在刻度区间过大应该如何调整\n",
    "- 这里的逻辑要搞清楚，不然通过率出了问题，连怎么调整都不知道\n",
    "\n",
    "## 手写一下SQL代码\n",
    "- 一般风控算法岗对SQL能力都是有要求的，稍加练习基本没有问题，这里放一个我们公司的笔试题。\n",
    "- 请取出，每个班级 所有课程 平均分大于80分的 学生名字"
   ]
  }
 ],
 "metadata": {
  "kernelspec": {
   "display_name": "Python 3",
   "language": "python",
   "name": "python3"
  },
  "language_info": {
   "codemirror_mode": {
    "name": "ipython",
    "version": 3
   },
   "file_extension": ".py",
   "mimetype": "text/x-python",
   "name": "python",
   "nbconvert_exporter": "python",
   "pygments_lexer": "ipython3",
   "version": "3.6.1"
  },
  "toc": {
   "base_numbering": 1,
   "nav_menu": {},
   "number_sections": true,
   "sideBar": true,
   "skip_h1_title": false,
   "title_cell": "Table of Contents",
   "title_sidebar": "Contents",
   "toc_cell": false,
   "toc_position": {},
   "toc_section_display": true,
   "toc_window_display": true
  }
 },
 "nbformat": 4,
 "nbformat_minor": 2
}
